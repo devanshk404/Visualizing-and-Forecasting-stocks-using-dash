{
 "cells": [
  {
   "cell_type": "code",
   "execution_count": 9,
   "id": "e6833270",
   "metadata": {
    "scrolled": true
   },
   "outputs": [
    {
     "name": "stdout",
     "output_type": "stream",
     "text": [
      "Requirement already satisfied: numpy in c:\\users\\user\\anaconda3\\lib\\site-packages (1.23.5)\n",
      "Requirement already satisfied: pandas in c:\\users\\user\\anaconda3\\lib\\site-packages (1.5.3)\n",
      "Requirement already satisfied: yfinance in c:\\users\\user\\anaconda3\\lib\\site-packages (0.2.30)\n",
      "Requirement already satisfied: gunicorn in c:\\users\\user\\anaconda3\\lib\\site-packages (21.2.0)\n",
      "Requirement already satisfied: lxml in c:\\users\\user\\anaconda3\\lib\\site-packages (4.9.1)\n",
      "Requirement already satisfied: scikit-learn in c:\\users\\user\\anaconda3\\lib\\site-packages (1.2.1)\n",
      "Requirement already satisfied: dash in c:\\users\\user\\anaconda3\\lib\\site-packages (2.13.0)\n",
      "Requirement already satisfied: plotly in c:\\users\\user\\anaconda3\\lib\\site-packages (5.9.0)\n",
      "Requirement already satisfied: pytz>=2020.1 in c:\\users\\user\\anaconda3\\lib\\site-packages (from pandas) (2022.7)\n",
      "Requirement already satisfied: python-dateutil>=2.8.1 in c:\\users\\user\\anaconda3\\lib\\site-packages (from pandas) (2.8.2)\n",
      "Requirement already satisfied: requests>=2.31 in c:\\users\\user\\anaconda3\\lib\\site-packages (from yfinance) (2.31.0)\n",
      "Requirement already satisfied: peewee>=3.16.2 in c:\\users\\user\\anaconda3\\lib\\site-packages (from yfinance) (3.16.3)\n",
      "Requirement already satisfied: html5lib>=1.1 in c:\\users\\user\\anaconda3\\lib\\site-packages (from yfinance) (1.1)\n",
      "Requirement already satisfied: multitasking>=0.0.7 in c:\\users\\user\\anaconda3\\lib\\site-packages (from yfinance) (0.0.11)\n",
      "Requirement already satisfied: appdirs>=1.4.4 in c:\\users\\user\\anaconda3\\lib\\site-packages (from yfinance) (1.4.4)\n",
      "Requirement already satisfied: beautifulsoup4>=4.11.1 in c:\\users\\user\\anaconda3\\lib\\site-packages (from yfinance) (4.11.1)\n",
      "Requirement already satisfied: frozendict>=2.3.4 in c:\\users\\user\\anaconda3\\lib\\site-packages (from yfinance) (2.3.8)\n",
      "Requirement already satisfied: packaging in c:\\users\\user\\anaconda3\\lib\\site-packages (from gunicorn) (22.0)\n",
      "Requirement already satisfied: scipy>=1.3.2 in c:\\users\\user\\anaconda3\\lib\\site-packages (from scikit-learn) (1.10.0)\n",
      "Requirement already satisfied: threadpoolctl>=2.0.0 in c:\\users\\user\\anaconda3\\lib\\site-packages (from scikit-learn) (2.2.0)\n",
      "Requirement already satisfied: joblib>=1.1.1 in c:\\users\\user\\anaconda3\\lib\\site-packages (from scikit-learn) (1.1.1)\n",
      "Requirement already satisfied: nest-asyncio in c:\\users\\user\\anaconda3\\lib\\site-packages (from dash) (1.5.6)\n",
      "Requirement already satisfied: Werkzeug<2.3.0 in c:\\users\\user\\anaconda3\\lib\\site-packages (from dash) (2.2.2)\n",
      "Requirement already satisfied: retrying in c:\\users\\user\\anaconda3\\lib\\site-packages (from dash) (1.3.4)\n",
      "Requirement already satisfied: typing-extensions>=4.1.1 in c:\\users\\user\\anaconda3\\lib\\site-packages (from dash) (4.4.0)\n",
      "Requirement already satisfied: dash-table==5.0.0 in c:\\users\\user\\anaconda3\\lib\\site-packages (from dash) (5.0.0)\n",
      "Requirement already satisfied: Flask<2.3.0,>=1.0.4 in c:\\users\\user\\anaconda3\\lib\\site-packages (from dash) (2.2.2)\n",
      "Requirement already satisfied: dash-html-components==2.0.0 in c:\\users\\user\\anaconda3\\lib\\site-packages (from dash) (2.0.0)\n",
      "Requirement already satisfied: ansi2html in c:\\users\\user\\anaconda3\\lib\\site-packages (from dash) (1.8.0)\n",
      "Requirement already satisfied: setuptools in c:\\users\\user\\anaconda3\\lib\\site-packages (from dash) (65.6.3)\n",
      "Requirement already satisfied: dash-core-components==2.0.0 in c:\\users\\user\\anaconda3\\lib\\site-packages (from dash) (2.0.0)\n",
      "Requirement already satisfied: tenacity>=6.2.0 in c:\\users\\user\\anaconda3\\lib\\site-packages (from plotly) (8.0.1)\n",
      "Requirement already satisfied: soupsieve>1.2 in c:\\users\\user\\anaconda3\\lib\\site-packages (from beautifulsoup4>=4.11.1->yfinance) (2.3.2.post1)\n",
      "Requirement already satisfied: click>=8.0 in c:\\users\\user\\anaconda3\\lib\\site-packages (from Flask<2.3.0,>=1.0.4->dash) (8.0.4)\n",
      "Requirement already satisfied: itsdangerous>=2.0 in c:\\users\\user\\anaconda3\\lib\\site-packages (from Flask<2.3.0,>=1.0.4->dash) (2.0.1)\n",
      "Requirement already satisfied: Jinja2>=3.0 in c:\\users\\user\\anaconda3\\lib\\site-packages (from Flask<2.3.0,>=1.0.4->dash) (3.1.2)\n",
      "Requirement already satisfied: six>=1.9 in c:\\users\\user\\anaconda3\\lib\\site-packages (from html5lib>=1.1->yfinance) (1.16.0)\n",
      "Requirement already satisfied: webencodings in c:\\users\\user\\anaconda3\\lib\\site-packages (from html5lib>=1.1->yfinance) (0.5.1)\n",
      "Requirement already satisfied: idna<4,>=2.5 in c:\\users\\user\\anaconda3\\lib\\site-packages (from requests>=2.31->yfinance) (3.4)\n",
      "Requirement already satisfied: certifi>=2017.4.17 in c:\\users\\user\\anaconda3\\lib\\site-packages (from requests>=2.31->yfinance) (2022.12.7)\n",
      "Requirement already satisfied: charset-normalizer<4,>=2 in c:\\users\\user\\anaconda3\\lib\\site-packages (from requests>=2.31->yfinance) (2.0.4)\n",
      "Requirement already satisfied: urllib3<3,>=1.21.1 in c:\\users\\user\\anaconda3\\lib\\site-packages (from requests>=2.31->yfinance) (1.26.14)\n",
      "Requirement already satisfied: MarkupSafe>=2.1.1 in c:\\users\\user\\anaconda3\\lib\\site-packages (from Werkzeug<2.3.0->dash) (2.1.1)\n",
      "Requirement already satisfied: colorama in c:\\users\\user\\anaconda3\\lib\\site-packages (from click>=8.0->Flask<2.3.0,>=1.0.4->dash) (0.4.6)\n"
     ]
    }
   ],
   "source": [
    "!pip install numpy pandas yfinance gunicorn lxml scikit-learn dash plotly\n"
   ]
  },
  {
   "cell_type": "code",
   "execution_count": 10,
   "id": "297f69eb",
   "metadata": {},
   "outputs": [],
   "source": [
    "import numpy as np\n",
    "import pandas as pd\n",
    "import yfinance as yf\n",
    "import plotly.express as px\n",
    "from dash import dcc, html\n",
    "from dash.dependencies import Input, Output, State\n",
    "import dash\n",
    "import plotly.graph_objs as go\n",
    "from datetime import datetime as dt\n",
    "from sklearn.svm import SVR\n"
   ]
  },
  {
   "cell_type": "code",
   "execution_count": 11,
   "id": "15e40682",
   "metadata": {},
   "outputs": [],
   "source": [
    "app = dash.Dash(__name__)\n",
    "\n",
    "app.layout = html.Div([\n",
    "    html.Div([ # Stock code input\n",
    "        html.Label(\"Enter Stock Code:\"),\n",
    "        dcc.Input(id='stock-code', type='text', value='AAPL'),\n",
    "        html.Button('Submit', id='stock-button')\n",
    "    ]),\n",
    "    html.Div([ # Date range picker input\n",
    "        html.Label(\"Select Date Range:\"),\n",
    "        dcc.DatePickerRange(\n",
    "            id='date-picker',\n",
    "            start_date='2023-01-01',\n",
    "            end_date='2023-10-01'\n",
    "        )\n",
    "    ]),\n",
    "    html.Div([ # Stock price button, Indicators button, Number of days of forecast input, Forecast button\n",
    "        html.Button('Fetch Stock Price', id='price-button'),\n",
    "        html.Button('Fetch Indicators', id='indicator-button'),\n",
    "        html.Label(\"Number of Days for Forecast:\"),\n",
    "        dcc.Input(id='forecast-days', type='number', value=7),\n",
    "        html.Button('Forecast', id='forecast-button')\n",
    "    ]),\n",
    "    html.Div(id='stock-info'), # Stock information output\n",
    "    html.Div(id='stock-graph'), # Stock price graph output\n",
    "    html.Div(id='indicator-graph'), # Indicator graph output\n",
    "    html.Div(id='forecast-graph') # Forecast graph output\n",
    "])\n"
   ]
  },
  {
   "cell_type": "code",
   "execution_count": 12,
   "id": "663539b1",
   "metadata": {},
   "outputs": [],
   "source": [
    "@app.callback(Output('stock-info', 'children'),\n",
    "              [Input('stock-button', 'n_clicks')],\n",
    "              [State('stock-code', 'value')])\n",
    "def update_stock_info(n_clicks, stock_code):\n",
    "    ticker = yf.Ticker(stock_code)\n",
    "    info = ticker.info\n",
    "    df = pd.DataFrame().from_dict(info, orient=\"index\").T\n",
    "    return f\"Company Name: {df['longName'].values[0]} | Logo: {df['logo_url'].values[0]} | Description: {df['longBusinessSummary'].values[0]}\"\n"
   ]
  },
  {
   "cell_type": "code",
   "execution_count": 13,
   "id": "8f7532d3",
   "metadata": {},
   "outputs": [],
   "source": [
    "@app.callback(Output('stock-graph', 'children'),\n",
    "              [Input('price-button', 'n_clicks')],\n",
    "              [State('stock-code', 'value'),\n",
    "               State('date-picker', 'start_date'),\n",
    "               State('date-picker', 'end_date')])\n",
    "def update_stock_graph(n_clicks, stock_code, start_date, end_date):\n",
    "    df = yf.download(stock_code, start=start_date, end=end_date)\n",
    "    fig = px.line(df, x=df.index, y=['Open', 'Close'], title=\"Stock Price vs Date\")\n",
    "    return dcc.Graph(figure=fig)\n"
   ]
  },
  {
   "cell_type": "code",
   "execution_count": 14,
   "id": "43789d03",
   "metadata": {},
   "outputs": [],
   "source": [
    "@app.callback(Output('forecast-graph', 'children'),\n",
    "              [Input('forecast-button', 'n_clicks')],\n",
    "              [State('stock-code', 'value'),\n",
    "               State('forecast-days', 'value')])\n",
    "def update_forecast_graph(n_clicks, stock_code, forecast_days):\n",
    "    df = yf.download(stock_code, period='60d')\n",
    "    dates = np.array(range(len(df)))\n",
    "    dates = dates.reshape(-1, 1)\n",
    "    close_prices = df['Close'].values\n",
    "\n",
    "    svr_rbf = SVR(kernel='rbf', C=1e3, gamma=0.1)\n",
    "    svr_rbf.fit(dates, close_prices)\n",
    "\n",
    "    forecast_dates = np.array(range(len(df), len(df) + forecast_days))\n",
    "    forecast_dates = forecast_dates.reshape(-1, 1)\n",
    "    forecast = svr_rbf.predict(forecast_dates)\n",
    "\n",
    "    fig = go.Figure()\n",
    "    fig.add_trace(go.Scatter(x=df.index, y=close_prices, mode='lines', name='Historical Data'))\n",
    "    fig.add_trace(go.Scatter(x=pd.date_range(df.index[-1], periods=forecast_days), y=forecast, mode='lines', name='Forecast'))\n",
    "    fig.update_layout(title='Stock Price Forecast', xaxis_title='Date', yaxis_title='Price')\n",
    "    return dcc.Graph(figure=fig)\n"
   ]
  },
  {
   "cell_type": "code",
   "execution_count": 15,
   "id": "b58b751d",
   "metadata": {
    "scrolled": true
   },
   "outputs": [
    {
     "data": {
      "text/html": [
       "\n",
       "        <iframe\n",
       "            width=\"100%\"\n",
       "            height=\"650\"\n",
       "            src=\"http://127.0.0.1:8051/\"\n",
       "            frameborder=\"0\"\n",
       "            allowfullscreen\n",
       "            \n",
       "        ></iframe>\n",
       "        "
      ],
      "text/plain": [
       "<IPython.lib.display.IFrame at 0x1c3b1af1c60>"
      ]
     },
     "metadata": {},
     "output_type": "display_data"
    },
    {
     "name": "stdout",
     "output_type": "stream",
     "text": [
      "[*********************100%%**********************]  1 of 1 completed\n",
      "\n",
      "\u001b[1;31m---------------------------------------------------------------------------\u001b[0m\n",
      "\u001b[1;31mHTTPError\u001b[0m                                 Traceback (most recent call last)\n",
      "File \u001b[1;32m~\\anaconda3\\lib\\site-packages\\yfinance\\ticker.py:142\u001b[0m, in \u001b[0;36mTicker.info\u001b[1;34m(self=yfinance.Ticker object <AAPL>)\u001b[0m\n",
      "\u001b[0;32m    140\u001b[0m \u001b[38;5;129m@property\u001b[39m\n",
      "\u001b[0;32m    141\u001b[0m \u001b[38;5;28;01mdef\u001b[39;00m \u001b[38;5;21minfo\u001b[39m(\u001b[38;5;28mself\u001b[39m) \u001b[38;5;241m-\u001b[39m\u001b[38;5;241m>\u001b[39m \u001b[38;5;28mdict\u001b[39m:\n",
      "\u001b[1;32m--> 142\u001b[0m     \u001b[38;5;28;01mreturn\u001b[39;00m \u001b[38;5;28;43mself\u001b[39;49m\u001b[38;5;241;43m.\u001b[39;49m\u001b[43mget_info\u001b[49m\u001b[43m(\u001b[49m\u001b[43m)\u001b[49m\n",
      "        self \u001b[1;34m= yfinance.Ticker object <AAPL>\u001b[0m\n",
      "\n",
      "File \u001b[1;32m~\\anaconda3\\lib\\site-packages\\yfinance\\base.py:1736\u001b[0m, in \u001b[0;36mTickerBase.get_info\u001b[1;34m(\n",
      "    self=yfinance.Ticker object <AAPL>,\n",
      "    proxy=None\n",
      ")\u001b[0m\n",
      "\u001b[0;32m   1734\u001b[0m \u001b[38;5;28;01mdef\u001b[39;00m \u001b[38;5;21mget_info\u001b[39m(\u001b[38;5;28mself\u001b[39m, proxy\u001b[38;5;241m=\u001b[39m\u001b[38;5;28;01mNone\u001b[39;00m) \u001b[38;5;241m-\u001b[39m\u001b[38;5;241m>\u001b[39m \u001b[38;5;28mdict\u001b[39m:\n",
      "\u001b[0;32m   1735\u001b[0m     \u001b[38;5;28mself\u001b[39m\u001b[38;5;241m.\u001b[39m_quote\u001b[38;5;241m.\u001b[39mproxy \u001b[38;5;241m=\u001b[39m proxy\n",
      "\u001b[1;32m-> 1736\u001b[0m     data \u001b[38;5;241m=\u001b[39m \u001b[38;5;28;43mself\u001b[39;49m\u001b[38;5;241;43m.\u001b[39;49m\u001b[43m_quote\u001b[49m\u001b[38;5;241;43m.\u001b[39;49m\u001b[43minfo\u001b[49m\n",
      "        self._quote \u001b[1;34m= <yfinance.scrapers.quote.Quote object at 0x000001C3B1AF28C0>\u001b[0m\u001b[1;34m\n",
      "        \u001b[0mself \u001b[1;34m= yfinance.Ticker object <AAPL>\u001b[0m\n",
      "\u001b[0;32m   1737\u001b[0m     \u001b[38;5;28;01mreturn\u001b[39;00m data\n",
      "\n",
      "File \u001b[1;32m~\\anaconda3\\lib\\site-packages\\yfinance\\scrapers\\quote.py:571\u001b[0m, in \u001b[0;36mQuote.info\u001b[1;34m(\n",
      "    self=<yfinance.scrapers.quote.Quote object>\n",
      ")\u001b[0m\n",
      "\u001b[0;32m    568\u001b[0m \u001b[38;5;129m@property\u001b[39m\n",
      "\u001b[0;32m    569\u001b[0m \u001b[38;5;28;01mdef\u001b[39;00m \u001b[38;5;21minfo\u001b[39m(\u001b[38;5;28mself\u001b[39m) \u001b[38;5;241m-\u001b[39m\u001b[38;5;241m>\u001b[39m \u001b[38;5;28mdict\u001b[39m:\n",
      "\u001b[0;32m    570\u001b[0m     \u001b[38;5;28;01mif\u001b[39;00m \u001b[38;5;28mself\u001b[39m\u001b[38;5;241m.\u001b[39m_info \u001b[38;5;129;01mis\u001b[39;00m \u001b[38;5;28;01mNone\u001b[39;00m:\n",
      "\u001b[1;32m--> 571\u001b[0m         \u001b[38;5;28;43mself\u001b[39;49m\u001b[38;5;241;43m.\u001b[39;49m\u001b[43m_fetch\u001b[49m\u001b[43m(\u001b[49m\u001b[38;5;28;43mself\u001b[39;49m\u001b[38;5;241;43m.\u001b[39;49m\u001b[43mproxy\u001b[49m\u001b[43m)\u001b[49m\n",
      "        self \u001b[1;34m= <yfinance.scrapers.quote.Quote object at 0x000001C3B1AF28C0>\u001b[0m\u001b[1;34m\n",
      "        \u001b[0mself.proxy \u001b[1;34m= None\u001b[0m\n",
      "\u001b[0;32m    572\u001b[0m         \u001b[38;5;28mself\u001b[39m\u001b[38;5;241m.\u001b[39m_fetch_complementary(\u001b[38;5;28mself\u001b[39m\u001b[38;5;241m.\u001b[39mproxy)\n",
      "\u001b[0;32m    574\u001b[0m     \u001b[38;5;28;01mreturn\u001b[39;00m \u001b[38;5;28mself\u001b[39m\u001b[38;5;241m.\u001b[39m_info\n",
      "\n",
      "File \u001b[1;32m~\\anaconda3\\lib\\site-packages\\yfinance\\scrapers\\quote.py:600\u001b[0m, in \u001b[0;36mQuote._fetch\u001b[1;34m(\n",
      "    self=<yfinance.scrapers.quote.Quote object>,\n",
      "    proxy=None\n",
      ")\u001b[0m\n",
      "\u001b[0;32m    598\u001b[0m modules \u001b[38;5;241m=\u001b[39m [\u001b[38;5;124m'\u001b[39m\u001b[38;5;124mfinancialData\u001b[39m\u001b[38;5;124m'\u001b[39m, \u001b[38;5;124m'\u001b[39m\u001b[38;5;124mquoteType\u001b[39m\u001b[38;5;124m'\u001b[39m, \u001b[38;5;124m'\u001b[39m\u001b[38;5;124mdefaultKeyStatistics\u001b[39m\u001b[38;5;124m'\u001b[39m, \u001b[38;5;124m'\u001b[39m\u001b[38;5;124massetProfile\u001b[39m\u001b[38;5;124m'\u001b[39m, \u001b[38;5;124m'\u001b[39m\u001b[38;5;124msummaryDetail\u001b[39m\u001b[38;5;124m'\u001b[39m]\n",
      "\u001b[0;32m    599\u001b[0m params_dict \u001b[38;5;241m=\u001b[39m {\u001b[38;5;124m\"\u001b[39m\u001b[38;5;124mmodules\u001b[39m\u001b[38;5;124m\"\u001b[39m: modules, \u001b[38;5;124m\"\u001b[39m\u001b[38;5;124mssl\u001b[39m\u001b[38;5;124m\"\u001b[39m: \u001b[38;5;124m\"\u001b[39m\u001b[38;5;124mtrue\u001b[39m\u001b[38;5;124m\"\u001b[39m}\n",
      "\u001b[1;32m--> 600\u001b[0m result \u001b[38;5;241m=\u001b[39m \u001b[38;5;28;43mself\u001b[39;49m\u001b[38;5;241;43m.\u001b[39;49m\u001b[43m_data\u001b[49m\u001b[38;5;241;43m.\u001b[39;49m\u001b[43mget_raw_json\u001b[49m\u001b[43m(\u001b[49m\n",
      "        self \u001b[1;34m= <yfinance.scrapers.quote.Quote object at 0x000001C3B1AF28C0>\u001b[0m\u001b[1;34m\n",
      "        \u001b[0mself._data \u001b[1;34m= <yfinance.data.TickerData object at 0x000001C3B1AF2800>\u001b[0m\u001b[1;34m\n",
      "        \u001b[0mparams_dict \u001b[1;34m= {'modules': ['financialData', 'quoteType', 'defaultKeyStatistics', 'assetProfile', 'summaryDetail'], 'ssl': 'true'}\u001b[0m\u001b[1;34m\n",
      "        \u001b[0m_BASIC_URL_ \u001b[1;34m= 'https://query2.finance.yahoo.com/v6/finance/quoteSummary'\u001b[0m\u001b[1;34m\n",
      "        \u001b[0mproxy \u001b[1;34m= None\u001b[0m\n",
      "\u001b[0;32m    601\u001b[0m \u001b[43m    \u001b[49m\u001b[43m_BASIC_URL_\u001b[49m\u001b[43m \u001b[49m\u001b[38;5;241;43m+\u001b[39;49m\u001b[43m \u001b[49m\u001b[38;5;124;43mf\u001b[39;49m\u001b[38;5;124;43m\"\u001b[39;49m\u001b[38;5;124;43m/\u001b[39;49m\u001b[38;5;132;43;01m{\u001b[39;49;00m\u001b[38;5;28;43mself\u001b[39;49m\u001b[38;5;241;43m.\u001b[39;49m\u001b[43m_data\u001b[49m\u001b[38;5;241;43m.\u001b[39;49m\u001b[43mticker\u001b[49m\u001b[38;5;132;43;01m}\u001b[39;49;00m\u001b[38;5;124;43m\"\u001b[39;49m\u001b[43m,\u001b[49m\u001b[43m \u001b[49m\u001b[43mparams\u001b[49m\u001b[38;5;241;43m=\u001b[39;49m\u001b[43mparams_dict\u001b[49m\u001b[43m,\u001b[49m\u001b[43m \u001b[49m\u001b[43mproxy\u001b[49m\u001b[38;5;241;43m=\u001b[39;49m\u001b[43mproxy\u001b[49m\n",
      "\u001b[0;32m    602\u001b[0m \u001b[43m\u001b[49m\u001b[43m)\u001b[49m\n",
      "\u001b[0;32m    603\u001b[0m result[\u001b[38;5;124m\"\u001b[39m\u001b[38;5;124mquoteSummary\u001b[39m\u001b[38;5;124m\"\u001b[39m][\u001b[38;5;124m\"\u001b[39m\u001b[38;5;124mresult\u001b[39m\u001b[38;5;124m\"\u001b[39m][\u001b[38;5;241m0\u001b[39m][\u001b[38;5;124m\"\u001b[39m\u001b[38;5;124msymbol\u001b[39m\u001b[38;5;124m\"\u001b[39m] \u001b[38;5;241m=\u001b[39m \u001b[38;5;28mself\u001b[39m\u001b[38;5;241m.\u001b[39m_data\u001b[38;5;241m.\u001b[39mticker\n",
      "\u001b[0;32m    604\u001b[0m query1_info \u001b[38;5;241m=\u001b[39m \u001b[38;5;28mnext\u001b[39m(\n",
      "\u001b[0;32m    605\u001b[0m     (info \u001b[38;5;28;01mfor\u001b[39;00m info \u001b[38;5;129;01min\u001b[39;00m result\u001b[38;5;241m.\u001b[39mget(\u001b[38;5;124m\"\u001b[39m\u001b[38;5;124mquoteSummary\u001b[39m\u001b[38;5;124m\"\u001b[39m, {})\u001b[38;5;241m.\u001b[39mget(\u001b[38;5;124m\"\u001b[39m\u001b[38;5;124mresult\u001b[39m\u001b[38;5;124m\"\u001b[39m, []) \u001b[38;5;28;01mif\u001b[39;00m info[\u001b[38;5;124m\"\u001b[39m\u001b[38;5;124msymbol\u001b[39m\u001b[38;5;124m\"\u001b[39m] \u001b[38;5;241m==\u001b[39m \u001b[38;5;28mself\u001b[39m\u001b[38;5;241m.\u001b[39m_data\u001b[38;5;241m.\u001b[39mticker),\n",
      "\u001b[0;32m    606\u001b[0m     \u001b[38;5;28;01mNone\u001b[39;00m,\n",
      "\u001b[0;32m    607\u001b[0m )\n",
      "\n",
      "File \u001b[1;32m~\\anaconda3\\lib\\site-packages\\yfinance\\data.py:75\u001b[0m, in \u001b[0;36mTickerData.get_raw_json\u001b[1;34m(\n",
      "    self=<yfinance.data.TickerData object>,\n",
      "    url='https://query2.finance.yahoo.com/v6/finance/quoteSummary/AAPL',\n",
      "    user_agent_headers=None,\n",
      "    params={'modules': ['financialData', 'quoteType', 'defaultKeyStatistics', 'assetProfile', 'summaryDetail'], 'ssl': 'true'},\n",
      "    proxy=None,\n",
      "    timeout=30\n",
      ")\u001b[0m\n",
      "\u001b[0;32m     73\u001b[0m \u001b[38;5;28;01mdef\u001b[39;00m \u001b[38;5;21mget_raw_json\u001b[39m(\u001b[38;5;28mself\u001b[39m, url, user_agent_headers\u001b[38;5;241m=\u001b[39m\u001b[38;5;28;01mNone\u001b[39;00m, params\u001b[38;5;241m=\u001b[39m\u001b[38;5;28;01mNone\u001b[39;00m, proxy\u001b[38;5;241m=\u001b[39m\u001b[38;5;28;01mNone\u001b[39;00m, timeout\u001b[38;5;241m=\u001b[39m\u001b[38;5;241m30\u001b[39m):\n",
      "\u001b[0;32m     74\u001b[0m     response \u001b[38;5;241m=\u001b[39m \u001b[38;5;28mself\u001b[39m\u001b[38;5;241m.\u001b[39mget(url, user_agent_headers\u001b[38;5;241m=\u001b[39muser_agent_headers, params\u001b[38;5;241m=\u001b[39mparams, proxy\u001b[38;5;241m=\u001b[39mproxy, timeout\u001b[38;5;241m=\u001b[39mtimeout)\n",
      "\u001b[1;32m---> 75\u001b[0m     \u001b[43mresponse\u001b[49m\u001b[38;5;241;43m.\u001b[39;49m\u001b[43mraise_for_status\u001b[49m\u001b[43m(\u001b[49m\u001b[43m)\u001b[49m\n",
      "        response \u001b[1;34m= <Response [404]>\u001b[0m\n",
      "\u001b[0;32m     76\u001b[0m     \u001b[38;5;28;01mreturn\u001b[39;00m response\u001b[38;5;241m.\u001b[39mjson()\n",
      "\n",
      "File \u001b[1;32m~\\anaconda3\\lib\\site-packages\\requests\\models.py:1021\u001b[0m, in \u001b[0;36mResponse.raise_for_status\u001b[1;34m(self=<Response [404]>)\u001b[0m\n",
      "\u001b[0;32m   1016\u001b[0m     http_error_msg \u001b[38;5;241m=\u001b[39m (\n",
      "\u001b[0;32m   1017\u001b[0m         \u001b[38;5;124mf\u001b[39m\u001b[38;5;124m\"\u001b[39m\u001b[38;5;132;01m{\u001b[39;00m\u001b[38;5;28mself\u001b[39m\u001b[38;5;241m.\u001b[39mstatus_code\u001b[38;5;132;01m}\u001b[39;00m\u001b[38;5;124m Server Error: \u001b[39m\u001b[38;5;132;01m{\u001b[39;00mreason\u001b[38;5;132;01m}\u001b[39;00m\u001b[38;5;124m for url: \u001b[39m\u001b[38;5;132;01m{\u001b[39;00m\u001b[38;5;28mself\u001b[39m\u001b[38;5;241m.\u001b[39murl\u001b[38;5;132;01m}\u001b[39;00m\u001b[38;5;124m\"\u001b[39m\n",
      "\u001b[0;32m   1018\u001b[0m     )\n",
      "\u001b[0;32m   1020\u001b[0m \u001b[38;5;28;01mif\u001b[39;00m http_error_msg:\n",
      "\u001b[1;32m-> 1021\u001b[0m     \u001b[38;5;28;01mraise\u001b[39;00m HTTPError(http_error_msg, response\u001b[38;5;241m=\u001b[39m\u001b[38;5;28mself\u001b[39m)\n",
      "        http_error_msg \u001b[1;34m= '404 Client Error: Not Found for url: https://query2.finance.yahoo.com/v6/finance/quoteSummary/AAPL?modules=financialData&modules=quoteType&modules=defaultKeyStatistics&modules=assetProfile&modules=summaryDetail&ssl=true'\u001b[0m\u001b[1;34m\n",
      "        \u001b[0mself \u001b[1;34m= <Response [404]>\u001b[0m\n",
      "\n",
      "\u001b[1;31mHTTPError\u001b[0m: 404 Client Error: Not Found for url: https://query2.finance.yahoo.com/v6/finance/quoteSummary/AAPL?modules=financialData&modules=quoteType&modules=defaultKeyStatistics&modules=assetProfile&modules=summaryDetail&ssl=true\n",
      "\n"
     ]
    }
   ],
   "source": [
    "if __name__ == '__main__':\n",
    "    app.run_server(debug=True, port=8051, mode=\"inline\")\n",
    "    \n"
   ]
  },
  {
   "cell_type": "code",
   "execution_count": 13,
   "id": "af1be098",
   "metadata": {},
   "outputs": [],
   "source": []
  },
  {
   "cell_type": "code",
   "execution_count": 14,
   "id": "5d512ed6",
   "metadata": {},
   "outputs": [],
   "source": []
  },
  {
   "cell_type": "code",
   "execution_count": null,
   "id": "6e0d4798",
   "metadata": {},
   "outputs": [],
   "source": []
  },
  {
   "cell_type": "code",
   "execution_count": null,
   "id": "227ca19c",
   "metadata": {},
   "outputs": [],
   "source": []
  },
  {
   "cell_type": "code",
   "execution_count": null,
   "id": "0a659f44",
   "metadata": {},
   "outputs": [],
   "source": []
  }
 ],
 "metadata": {
  "kernelspec": {
   "display_name": "Python 3 (ipykernel)",
   "language": "python",
   "name": "python3"
  },
  "language_info": {
   "codemirror_mode": {
    "name": "ipython",
    "version": 3
   },
   "file_extension": ".py",
   "mimetype": "text/x-python",
   "name": "python",
   "nbconvert_exporter": "python",
   "pygments_lexer": "ipython3",
   "version": "3.10.9"
  }
 },
 "nbformat": 4,
 "nbformat_minor": 5
}
